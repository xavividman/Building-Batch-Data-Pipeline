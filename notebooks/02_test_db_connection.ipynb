{
 "cells": [
  {
   "cell_type": "code",
   "execution_count": 6,
   "metadata": {},
   "outputs": [],
   "source": [
    "import pandas as pd\n",
    "import psycopg2\n",
    "import sqlalchemy as sa"
   ]
  },
  {
   "cell_type": "code",
   "execution_count": 20,
   "metadata": {},
   "outputs": [
    {
     "data": {
      "text/plain": [
       "'market_data'"
      ]
     },
     "execution_count": 20,
     "metadata": {},
     "output_type": "execute_result"
    }
   ],
   "source": [
    "import configparser\n",
    "\n",
    "def read_config():\n",
    "    config = configparser.ConfigParser()\n",
    "    config.read('../config.ini')\n",
    "    return config\n",
    "\n",
    "conn_data = read_config()\n",
    "conn_data = conn_data[\"PostgreSQL\"]\n",
    "\n",
    "host = conn_data[\"HOST\"]\n",
    "port = conn_data[\"PORT\"]\n",
    "database = conn_data[\"DATABASE\"]\n",
    "user = conn_data[\"USER\"]\n",
    "password = conn_data[\"PASSWORD\"]\n",
    "schema = conn_data[\"SCHEMA\"]"
   ]
  },
  {
   "cell_type": "code",
   "execution_count": 19,
   "metadata": {},
   "outputs": [],
   "source": [
    "def create_companies_table():\n",
    "    query = f\"\"\"\n",
    "    CREATE TABLE {schema}.companies(\n",
    "    id_company      SERIAL NOT NULL PRIMARY KEY,\n",
    "    symbol          VARCHAR(10),\n",
    "    name            VARCHAR(100)\n",
    "    );\n",
    "    \"\"\"\n",
    "\n",
    "    with psycopg2.connect(host=host, port=port, user=user, password=password, database=database) as conn:\n",
    "        with conn.cursor() as cursor:\n",
    "            cursor.execute(f\"DROP TABLE IF EXISTS {schema}.companies;\")\n",
    "            cursor.execute(query)\n",
    "\n",
    "create_companies_table()"
   ]
  },
  {
   "cell_type": "code",
   "execution_count": 16,
   "metadata": {},
   "outputs": [],
   "source": [
    "df = 1\n",
    "table_name = 2\n",
    "\n",
    "#------------DATABASE CONNECTION---------------------------------\n",
    "from sqlalchemy.engine.url import URL\n",
    "# build the sqlalchemy URL\n",
    "url = URL.create(\n",
    "drivername='postgresql',\n",
    "host=host,\n",
    "port=port,\n",
    "database=database,\n",
    "username=user,\n",
    "password=password,\n",
    ")\n",
    "\n",
    "engine = sa.create_engine(url)\n",
    "\n",
    "#------------LOAD STOCK PRICES DATA---------------------------------\n",
    "df.to_sql(table_name, con=engine, schema=schema, if_exists='append', index=False, method='multi')\n"
   ]
  }
 ],
 "metadata": {
  "kernelspec": {
   "display_name": "de_env",
   "language": "python",
   "name": "python3"
  },
  "language_info": {
   "codemirror_mode": {
    "name": "ipython",
    "version": 3
   },
   "file_extension": ".py",
   "mimetype": "text/x-python",
   "name": "python",
   "nbconvert_exporter": "python",
   "pygments_lexer": "ipython3",
   "version": "3.11.5"
  }
 },
 "nbformat": 4,
 "nbformat_minor": 2
}
