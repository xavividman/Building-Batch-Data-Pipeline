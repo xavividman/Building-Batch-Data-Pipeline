{
 "cells": [
  {
   "cell_type": "markdown",
   "metadata": {},
   "source": [
    "## This notebook will help you if you want to test your database is working right"
   ]
  },
  {
   "cell_type": "markdown",
   "metadata": {},
   "source": [
    "### Importing libraries"
   ]
  },
  {
   "cell_type": "code",
   "execution_count": 1,
   "metadata": {},
   "outputs": [],
   "source": [
    "import pandas as pd\n",
    "import psycopg2\n",
    "import sqlalchemy as sa\n",
    "import yfinance as yf"
   ]
  },
  {
   "cell_type": "markdown",
   "metadata": {},
   "source": [
    "### Importing database credentials \n",
    "\n",
    "Before, you must be sure the config.ini file has the corrrect credentials"
   ]
  },
  {
   "cell_type": "code",
   "execution_count": 2,
   "metadata": {},
   "outputs": [],
   "source": [
    "import configparser\n",
    "\n",
    "def read_config():\n",
    "    config = configparser.ConfigParser()\n",
    "    config.read('../config.ini')\n",
    "    return config\n",
    "\n",
    "conn_data = read_config()\n",
    "conn_data = conn_data[\"PostgreSQL\"]\n",
    "\n",
    "host = conn_data[\"HOST\"]\n",
    "port = conn_data[\"PORT\"]\n",
    "database = conn_data[\"DATABASE\"]\n",
    "user = conn_data[\"USER\"]\n",
    "password = conn_data[\"PASSWORD\"]\n",
    "schema = conn_data[\"SCHEMA\"]"
   ]
  },
  {
   "cell_type": "markdown",
   "metadata": {},
   "source": [
    "### Test N°1: testing database with a psycopg2 library. \n",
    "### If you get the output: [('companies',)], it's working correctly"
   ]
  },
  {
   "cell_type": "code",
   "execution_count": 19,
   "metadata": {},
   "outputs": [
    {
     "name": "stdout",
     "output_type": "stream",
     "text": [
      "[('companies',)]\n"
     ]
    }
   ],
   "source": [
    "table_name = 'companies'\n",
    "\n",
    "with psycopg2.connect(host=host, port=port, user=user, password=password, database=database) as conn:\n",
    "    with conn.cursor() as cursor:\n",
    "        cursor.execute(f\"DROP TABLE IF EXISTS {schema}.{table_name};\")\n",
    "        query = f\"\"\"\n",
    "                CREATE TABLE {schema}.{table_name}(\n",
    "                id_company      SERIAL NOT NULL PRIMARY KEY,\n",
    "                symbol          VARCHAR(10),\n",
    "                name            VARCHAR(100)\n",
    "                );\n",
    "                \"\"\"\n",
    "        cursor.execute(query)\n",
    "\n",
    "with psycopg2.connect(host=host, port=port, user=user, password=password, database=database) as conn:\n",
    "    with conn.cursor() as cursor:\n",
    "        query = f\"SELECT table_name FROM information_schema.tables WHERE table_schema = '{schema}';\"\n",
    "        cursor.execute(query)\n",
    "        print(cursor.fetchall())"
   ]
  },
  {
   "cell_type": "markdown",
   "metadata": {},
   "source": [
    "### Test N°2: testing database with SQLAlchemy and psycopg2\n",
    "\n",
    "### If you get at the output the data of AAPL between '2023-01-01' and '2023-02-02', it's working correctly"
   ]
  },
  {
   "cell_type": "code",
   "execution_count": 20,
   "metadata": {},
   "outputs": [
    {
     "name": "stdout",
     "output_type": "stream",
     "text": [
      "[*********************100%%**********************]  1 of 1 completed\n"
     ]
    },
    {
     "data": {
      "text/plain": [
       "21"
      ]
     },
     "execution_count": 20,
     "metadata": {},
     "output_type": "execute_result"
    }
   ],
   "source": [
    "df = yf.download(tickers='AAPL', start='2023-01-01', end='2023-02-02', interval='1d').reset_index()\n",
    "table_name = 'stock_prices'\n",
    "\n",
    "#------------DATABASE CONNECTION---------------------------------\n",
    "from sqlalchemy.engine.url import URL\n",
    "# build the sqlalchemy URL\n",
    "url = URL.create(\n",
    "drivername='postgresql',\n",
    "host=host,\n",
    "port=port,\n",
    "database=database,\n",
    "username=user,\n",
    "password=password,\n",
    ")\n",
    "\n",
    "engine = sa.create_engine(url)\n",
    "\n",
    "#------------LOAD STOCK PRICES DATA---------------------------------\n",
    "df.to_sql(table_name, con=engine, schema=schema, if_exists='append', index=False, method='multi')\n",
    "\n",
    "\n",
    "with psycopg2.connect(host=host, port=port, user=user, password=password, database=database) as conn:\n",
    "    with conn.cursor() as cursor:\n",
    "        query = f\"SELECT * FROM {schema}.stock_prices;\"\n",
    "        cursor.execute(query)\n",
    "        data = cursor.fetchall()\n",
    "\n",
    "pd.DataFrame(data, columns=df.columns)"
   ]
  }
 ],
 "metadata": {
  "kernelspec": {
   "display_name": "de_env",
   "language": "python",
   "name": "python3"
  },
  "language_info": {
   "codemirror_mode": {
    "name": "ipython",
    "version": 3
   },
   "file_extension": ".py",
   "mimetype": "text/x-python",
   "name": "python",
   "nbconvert_exporter": "python",
   "pygments_lexer": "ipython3",
   "version": "3.11.5"
  }
 },
 "nbformat": 4,
 "nbformat_minor": 2
}
